{
 "cells": [
  {
   "cell_type": "code",
   "execution_count": 1,
   "metadata": {},
   "outputs": [
    {
     "name": "stdout",
     "output_type": "stream",
     "text": [
      "Requirement already satisfied: colabcode in /home/mohammad/anaconda3/lib/python3.11/site-packages (0.3.0)\n",
      "Requirement already satisfied: pyngrok>=5.0.0 in /home/mohammad/anaconda3/lib/python3.11/site-packages (from colabcode) (7.0.0)\n",
      "Requirement already satisfied: nest-asyncio==1.4.3 in /home/mohammad/anaconda3/lib/python3.11/site-packages (from colabcode) (1.4.3)\n",
      "Requirement already satisfied: uvicorn==0.13.1 in /home/mohammad/anaconda3/lib/python3.11/site-packages (from colabcode) (0.13.1)\n",
      "Requirement already satisfied: jupyterlab==3.0.7 in /home/mohammad/anaconda3/lib/python3.11/site-packages (from colabcode) (3.0.7)\n",
      "Requirement already satisfied: ipython in /home/mohammad/anaconda3/lib/python3.11/site-packages (from jupyterlab==3.0.7->colabcode) (8.15.0)\n",
      "Requirement already satisfied: packaging in /home/mohammad/anaconda3/lib/python3.11/site-packages (from jupyterlab==3.0.7->colabcode) (23.1)\n",
      "Requirement already satisfied: tornado>=6.1.0 in /home/mohammad/anaconda3/lib/python3.11/site-packages (from jupyterlab==3.0.7->colabcode) (6.3.2)\n",
      "Requirement already satisfied: jupyter-core in /home/mohammad/anaconda3/lib/python3.11/site-packages (from jupyterlab==3.0.7->colabcode) (5.3.0)\n",
      "Requirement already satisfied: jupyterlab-server~=2.0 in /home/mohammad/anaconda3/lib/python3.11/site-packages (from jupyterlab==3.0.7->colabcode) (2.22.0)\n",
      "Requirement already satisfied: jupyter-server~=1.2 in /home/mohammad/anaconda3/lib/python3.11/site-packages (from jupyterlab==3.0.7->colabcode) (1.23.4)\n",
      "Requirement already satisfied: nbclassic~=0.2 in /home/mohammad/anaconda3/lib/python3.11/site-packages (from jupyterlab==3.0.7->colabcode) (0.3.7)\n",
      "Requirement already satisfied: jinja2>=2.10 in /home/mohammad/anaconda3/lib/python3.11/site-packages (from jupyterlab==3.0.7->colabcode) (3.1.2)\n",
      "Requirement already satisfied: click==7.* in /home/mohammad/anaconda3/lib/python3.11/site-packages (from uvicorn==0.13.1->colabcode) (7.1.2)\n",
      "Requirement already satisfied: h11>=0.8 in /home/mohammad/anaconda3/lib/python3.11/site-packages (from uvicorn==0.13.1->colabcode) (0.14.0)\n",
      "Requirement already satisfied: PyYAML in /home/mohammad/anaconda3/lib/python3.11/site-packages (from pyngrok>=5.0.0->colabcode) (6.0)\n",
      "Requirement already satisfied: MarkupSafe>=2.0 in /home/mohammad/anaconda3/lib/python3.11/site-packages (from jinja2>=2.10->jupyterlab==3.0.7->colabcode) (2.1.1)\n",
      "Requirement already satisfied: anyio<4,>=3.1.0 in /home/mohammad/anaconda3/lib/python3.11/site-packages (from jupyter-server~=1.2->jupyterlab==3.0.7->colabcode) (3.5.0)\n",
      "Requirement already satisfied: argon2-cffi in /home/mohammad/anaconda3/lib/python3.11/site-packages (from jupyter-server~=1.2->jupyterlab==3.0.7->colabcode) (21.3.0)\n",
      "Requirement already satisfied: jupyter-client>=6.1.12 in /home/mohammad/anaconda3/lib/python3.11/site-packages (from jupyter-server~=1.2->jupyterlab==3.0.7->colabcode) (8.6.0)\n",
      "Requirement already satisfied: nbconvert>=6.4.4 in /home/mohammad/anaconda3/lib/python3.11/site-packages (from jupyter-server~=1.2->jupyterlab==3.0.7->colabcode) (6.5.4)\n",
      "Requirement already satisfied: nbformat>=5.2.0 in /home/mohammad/anaconda3/lib/python3.11/site-packages (from jupyter-server~=1.2->jupyterlab==3.0.7->colabcode) (5.9.2)\n",
      "Requirement already satisfied: prometheus-client in /home/mohammad/anaconda3/lib/python3.11/site-packages (from jupyter-server~=1.2->jupyterlab==3.0.7->colabcode) (0.14.1)\n",
      "Requirement already satisfied: pyzmq>=17 in /home/mohammad/anaconda3/lib/python3.11/site-packages (from jupyter-server~=1.2->jupyterlab==3.0.7->colabcode) (23.2.0)\n",
      "Requirement already satisfied: Send2Trash in /home/mohammad/anaconda3/lib/python3.11/site-packages (from jupyter-server~=1.2->jupyterlab==3.0.7->colabcode) (1.8.0)\n",
      "Requirement already satisfied: terminado>=0.8.3 in /home/mohammad/anaconda3/lib/python3.11/site-packages (from jupyter-server~=1.2->jupyterlab==3.0.7->colabcode) (0.17.1)\n",
      "Requirement already satisfied: traitlets>=5.1 in /home/mohammad/anaconda3/lib/python3.11/site-packages (from jupyter-server~=1.2->jupyterlab==3.0.7->colabcode) (5.7.1)\n",
      "Requirement already satisfied: websocket-client in /home/mohammad/anaconda3/lib/python3.11/site-packages (from jupyter-server~=1.2->jupyterlab==3.0.7->colabcode) (0.58.0)\n",
      "Requirement already satisfied: platformdirs>=2.5 in /home/mohammad/anaconda3/lib/python3.11/site-packages (from jupyter-core->jupyterlab==3.0.7->colabcode) (3.10.0)\n",
      "Requirement already satisfied: babel>=2.10 in /home/mohammad/anaconda3/lib/python3.11/site-packages (from jupyterlab-server~=2.0->jupyterlab==3.0.7->colabcode) (2.11.0)\n",
      "Requirement already satisfied: json5>=0.9.0 in /home/mohammad/anaconda3/lib/python3.11/site-packages (from jupyterlab-server~=2.0->jupyterlab==3.0.7->colabcode) (0.9.6)\n",
      "Requirement already satisfied: jsonschema>=4.17.3 in /home/mohammad/anaconda3/lib/python3.11/site-packages (from jupyterlab-server~=2.0->jupyterlab==3.0.7->colabcode) (4.17.3)\n",
      "Requirement already satisfied: requests>=2.28 in /home/mohammad/anaconda3/lib/python3.11/site-packages (from jupyterlab-server~=2.0->jupyterlab==3.0.7->colabcode) (2.31.0)\n",
      "Requirement already satisfied: notebook<7 in /home/mohammad/anaconda3/lib/python3.11/site-packages (from nbclassic~=0.2->jupyterlab==3.0.7->colabcode) (6.4.5)\n",
      "Requirement already satisfied: notebook-shim>=0.1.0 in /home/mohammad/anaconda3/lib/python3.11/site-packages (from nbclassic~=0.2->jupyterlab==3.0.7->colabcode) (0.2.2)\n",
      "Requirement already satisfied: backcall in /home/mohammad/anaconda3/lib/python3.11/site-packages (from ipython->jupyterlab==3.0.7->colabcode) (0.2.0)\n",
      "Requirement already satisfied: decorator in /home/mohammad/anaconda3/lib/python3.11/site-packages (from ipython->jupyterlab==3.0.7->colabcode) (5.1.1)\n",
      "Requirement already satisfied: jedi>=0.16 in /home/mohammad/anaconda3/lib/python3.11/site-packages (from ipython->jupyterlab==3.0.7->colabcode) (0.18.1)\n",
      "Requirement already satisfied: matplotlib-inline in /home/mohammad/anaconda3/lib/python3.11/site-packages (from ipython->jupyterlab==3.0.7->colabcode) (0.1.6)\n",
      "Requirement already satisfied: pickleshare in /home/mohammad/anaconda3/lib/python3.11/site-packages (from ipython->jupyterlab==3.0.7->colabcode) (0.7.5)\n",
      "Requirement already satisfied: prompt-toolkit!=3.0.37,<3.1.0,>=3.0.30 in /home/mohammad/anaconda3/lib/python3.11/site-packages (from ipython->jupyterlab==3.0.7->colabcode) (3.0.36)\n",
      "Requirement already satisfied: pygments>=2.4.0 in /home/mohammad/anaconda3/lib/python3.11/site-packages (from ipython->jupyterlab==3.0.7->colabcode) (2.15.1)\n",
      "Requirement already satisfied: stack-data in /home/mohammad/anaconda3/lib/python3.11/site-packages (from ipython->jupyterlab==3.0.7->colabcode) (0.2.0)\n",
      "Requirement already satisfied: pexpect>4.3 in /home/mohammad/anaconda3/lib/python3.11/site-packages (from ipython->jupyterlab==3.0.7->colabcode) (4.8.0)\n",
      "Requirement already satisfied: idna>=2.8 in /home/mohammad/anaconda3/lib/python3.11/site-packages (from anyio<4,>=3.1.0->jupyter-server~=1.2->jupyterlab==3.0.7->colabcode) (3.4)\n",
      "Requirement already satisfied: sniffio>=1.1 in /home/mohammad/anaconda3/lib/python3.11/site-packages (from anyio<4,>=3.1.0->jupyter-server~=1.2->jupyterlab==3.0.7->colabcode) (1.2.0)\n",
      "Requirement already satisfied: pytz>=2015.7 in /home/mohammad/anaconda3/lib/python3.11/site-packages (from babel>=2.10->jupyterlab-server~=2.0->jupyterlab==3.0.7->colabcode) (2023.3.post1)\n",
      "Requirement already satisfied: parso<0.9.0,>=0.8.0 in /home/mohammad/anaconda3/lib/python3.11/site-packages (from jedi>=0.16->ipython->jupyterlab==3.0.7->colabcode) (0.8.3)\n",
      "Requirement already satisfied: attrs>=17.4.0 in /home/mohammad/anaconda3/lib/python3.11/site-packages (from jsonschema>=4.17.3->jupyterlab-server~=2.0->jupyterlab==3.0.7->colabcode) (22.1.0)\n",
      "Requirement already satisfied: pyrsistent!=0.17.0,!=0.17.1,!=0.17.2,>=0.14.0 in /home/mohammad/anaconda3/lib/python3.11/site-packages (from jsonschema>=4.17.3->jupyterlab-server~=2.0->jupyterlab==3.0.7->colabcode) (0.18.0)\n",
      "Requirement already satisfied: python-dateutil>=2.8.2 in /home/mohammad/anaconda3/lib/python3.11/site-packages (from jupyter-client>=6.1.12->jupyter-server~=1.2->jupyterlab==3.0.7->colabcode) (2.8.2)\n",
      "Requirement already satisfied: lxml in /home/mohammad/anaconda3/lib/python3.11/site-packages (from nbconvert>=6.4.4->jupyter-server~=1.2->jupyterlab==3.0.7->colabcode) (4.9.3)\n",
      "Requirement already satisfied: beautifulsoup4 in /home/mohammad/anaconda3/lib/python3.11/site-packages (from nbconvert>=6.4.4->jupyter-server~=1.2->jupyterlab==3.0.7->colabcode) (4.12.2)\n",
      "Requirement already satisfied: bleach in /home/mohammad/anaconda3/lib/python3.11/site-packages (from nbconvert>=6.4.4->jupyter-server~=1.2->jupyterlab==3.0.7->colabcode) (4.1.0)\n",
      "Requirement already satisfied: defusedxml in /home/mohammad/anaconda3/lib/python3.11/site-packages (from nbconvert>=6.4.4->jupyter-server~=1.2->jupyterlab==3.0.7->colabcode) (0.7.1)\n",
      "Requirement already satisfied: entrypoints>=0.2.2 in /home/mohammad/anaconda3/lib/python3.11/site-packages (from nbconvert>=6.4.4->jupyter-server~=1.2->jupyterlab==3.0.7->colabcode) (0.4)\n",
      "Requirement already satisfied: jupyterlab-pygments in /home/mohammad/anaconda3/lib/python3.11/site-packages (from nbconvert>=6.4.4->jupyter-server~=1.2->jupyterlab==3.0.7->colabcode) (0.1.2)\n",
      "Requirement already satisfied: mistune<2,>=0.8.1 in /home/mohammad/anaconda3/lib/python3.11/site-packages (from nbconvert>=6.4.4->jupyter-server~=1.2->jupyterlab==3.0.7->colabcode) (0.8.4)\n",
      "Requirement already satisfied: nbclient>=0.5.0 in /home/mohammad/anaconda3/lib/python3.11/site-packages (from nbconvert>=6.4.4->jupyter-server~=1.2->jupyterlab==3.0.7->colabcode) (0.5.13)\n",
      "Requirement already satisfied: pandocfilters>=1.4.1 in /home/mohammad/anaconda3/lib/python3.11/site-packages (from nbconvert>=6.4.4->jupyter-server~=1.2->jupyterlab==3.0.7->colabcode) (1.5.0)\n",
      "Requirement already satisfied: tinycss2 in /home/mohammad/anaconda3/lib/python3.11/site-packages (from nbconvert>=6.4.4->jupyter-server~=1.2->jupyterlab==3.0.7->colabcode) (1.2.1)\n",
      "Requirement already satisfied: fastjsonschema in /home/mohammad/anaconda3/lib/python3.11/site-packages (from nbformat>=5.2.0->jupyter-server~=1.2->jupyterlab==3.0.7->colabcode) (2.16.2)\n",
      "Requirement already satisfied: ipython-genutils in /home/mohammad/anaconda3/lib/python3.11/site-packages (from notebook<7->nbclassic~=0.2->jupyterlab==3.0.7->colabcode) (0.2.0)\n",
      "Requirement already satisfied: ipykernel in /home/mohammad/anaconda3/lib/python3.11/site-packages (from notebook<7->nbclassic~=0.2->jupyterlab==3.0.7->colabcode) (6.25.0)\n",
      "Requirement already satisfied: ptyprocess>=0.5 in /home/mohammad/anaconda3/lib/python3.11/site-packages (from pexpect>4.3->ipython->jupyterlab==3.0.7->colabcode) (0.7.0)\n",
      "Requirement already satisfied: wcwidth in /home/mohammad/anaconda3/lib/python3.11/site-packages (from prompt-toolkit!=3.0.37,<3.1.0,>=3.0.30->ipython->jupyterlab==3.0.7->colabcode) (0.2.5)\n",
      "Requirement already satisfied: charset-normalizer<4,>=2 in /home/mohammad/anaconda3/lib/python3.11/site-packages (from requests>=2.28->jupyterlab-server~=2.0->jupyterlab==3.0.7->colabcode) (2.0.4)\n",
      "Requirement already satisfied: urllib3<3,>=1.21.1 in /home/mohammad/anaconda3/lib/python3.11/site-packages (from requests>=2.28->jupyterlab-server~=2.0->jupyterlab==3.0.7->colabcode) (1.26.16)\n",
      "Requirement already satisfied: certifi>=2017.4.17 in /home/mohammad/anaconda3/lib/python3.11/site-packages (from requests>=2.28->jupyterlab-server~=2.0->jupyterlab==3.0.7->colabcode) (2023.7.22)\n",
      "Requirement already satisfied: argon2-cffi-bindings in /home/mohammad/anaconda3/lib/python3.11/site-packages (from argon2-cffi->jupyter-server~=1.2->jupyterlab==3.0.7->colabcode) (21.2.0)\n",
      "Requirement already satisfied: executing in /home/mohammad/anaconda3/lib/python3.11/site-packages (from stack-data->ipython->jupyterlab==3.0.7->colabcode) (0.8.3)\n",
      "Requirement already satisfied: asttokens in /home/mohammad/anaconda3/lib/python3.11/site-packages (from stack-data->ipython->jupyterlab==3.0.7->colabcode) (2.0.5)\n",
      "Requirement already satisfied: pure-eval in /home/mohammad/anaconda3/lib/python3.11/site-packages (from stack-data->ipython->jupyterlab==3.0.7->colabcode) (0.2.2)\n",
      "Requirement already satisfied: six in /home/mohammad/anaconda3/lib/python3.11/site-packages (from websocket-client->jupyter-server~=1.2->jupyterlab==3.0.7->colabcode) (1.16.0)\n",
      "Requirement already satisfied: cffi>=1.0.1 in /home/mohammad/anaconda3/lib/python3.11/site-packages (from argon2-cffi-bindings->argon2-cffi->jupyter-server~=1.2->jupyterlab==3.0.7->colabcode) (1.15.1)\n",
      "Requirement already satisfied: soupsieve>1.2 in /home/mohammad/anaconda3/lib/python3.11/site-packages (from beautifulsoup4->nbconvert>=6.4.4->jupyter-server~=1.2->jupyterlab==3.0.7->colabcode) (2.4)\n",
      "Requirement already satisfied: webencodings in /home/mohammad/anaconda3/lib/python3.11/site-packages (from bleach->nbconvert>=6.4.4->jupyter-server~=1.2->jupyterlab==3.0.7->colabcode) (0.5.1)\n",
      "Requirement already satisfied: comm>=0.1.1 in /home/mohammad/anaconda3/lib/python3.11/site-packages (from ipykernel->notebook<7->nbclassic~=0.2->jupyterlab==3.0.7->colabcode) (0.1.2)\n",
      "Requirement already satisfied: debugpy>=1.6.5 in /home/mohammad/anaconda3/lib/python3.11/site-packages (from ipykernel->notebook<7->nbclassic~=0.2->jupyterlab==3.0.7->colabcode) (1.6.7)\n",
      "Requirement already satisfied: psutil in /home/mohammad/anaconda3/lib/python3.11/site-packages (from ipykernel->notebook<7->nbclassic~=0.2->jupyterlab==3.0.7->colabcode) (5.9.0)\n",
      "Requirement already satisfied: pycparser in /home/mohammad/anaconda3/lib/python3.11/site-packages (from cffi>=1.0.1->argon2-cffi-bindings->argon2-cffi->jupyter-server~=1.2->jupyterlab==3.0.7->colabcode) (2.21)\n"
     ]
    }
   ],
   "source": [
    "#! pip install torch\n",
    "!pip install colabcode"
   ]
  },
  {
   "cell_type": "code",
   "execution_count": 50,
   "metadata": {},
   "outputs": [],
   "source": [
    "import numpy as np\n",
    "import matplotlib.pyplot as plt\n",
    "import seaborn as sns\n",
    "import pandas as pd "
   ]
  },
  {
   "cell_type": "code",
   "execution_count": 51,
   "metadata": {},
   "outputs": [],
   "source": [
    "data = pd.read_csv('./ML-HW1/insurance.csv')"
   ]
  },
  {
   "cell_type": "code",
   "execution_count": 52,
   "metadata": {},
   "outputs": [
    {
     "data": {
      "text/plain": [
       "<bound method NDFrame.describe of       age     sex     bmi  children smoker     region      charges\n",
       "0      19  female  27.900         0    yes  southwest  16884.92400\n",
       "1      18    male  33.770         1     no  southeast   1725.55230\n",
       "2      28    male  33.000         3     no  southeast   4449.46200\n",
       "3      33    male  22.705         0     no  northwest  21984.47061\n",
       "4      32    male  28.880         0     no  northwest   3866.85520\n",
       "...   ...     ...     ...       ...    ...        ...          ...\n",
       "1333   50    male  30.970         3     no  northwest  10600.54830\n",
       "1334   18  female  31.920         0     no  northeast   2205.98080\n",
       "1335   18  female  36.850         0     no  southeast   1629.83350\n",
       "1336   21  female  25.800         0     no  southwest   2007.94500\n",
       "1337   61  female  29.070         0    yes  northwest  29141.36030\n",
       "\n",
       "[1338 rows x 7 columns]>"
      ]
     },
     "execution_count": 52,
     "metadata": {},
     "output_type": "execute_result"
    }
   ],
   "source": [
    "data.describe"
   ]
  },
  {
   "cell_type": "markdown",
   "metadata": {},
   "source": [
    "# data info\n",
    "- row= 1338 (nunber of data)\n",
    "- columns = 7 (number of feature)"
   ]
  },
  {
   "cell_type": "code",
   "execution_count": 53,
   "metadata": {},
   "outputs": [],
   "source": [
    "# for age\n",
    "age = data['age']\n",
    "age_cat = pd.Categorical(age)\n",
    "# bmi\n",
    "bmi = data['bmi']\n",
    "bmi_cat = pd.Categorical(bmi)\n",
    "#charges\n",
    "chager = data['charges']\n",
    "charger_cat = pd.Categorical(chager)\n",
    "# children \n",
    "children = data['children']\n",
    "children_cat = pd.Categorical(children)\n",
    "# region \n",
    "region = data['region']\n",
    "region_cat = pd.Categorical(region)\n",
    "# sex\n",
    "sex = data['sex']\n",
    "sex_cat = pd.Categorical(sex)\n",
    "smoker = data['smoker']\n",
    "smoker_cat = pd.Categorical(smoker)"
   ]
  },
  {
   "cell_type": "code",
   "execution_count": 54,
   "metadata": {},
   "outputs": [
    {
     "data": {
      "text/plain": [
       "[19, 18, 28, 33, 32, ..., 50, 18, 18, 21, 61]\n",
       "Length: 1338\n",
       "Categories (47, int64): [18, 19, 20, 21, ..., 61, 62, 63, 64]"
      ]
     },
     "execution_count": 54,
     "metadata": {},
     "output_type": "execute_result"
    }
   ],
   "source": [
    "\n",
    "age_cat"
   ]
  },
  {
   "cell_type": "code",
   "execution_count": 55,
   "metadata": {},
   "outputs": [
    {
     "data": {
      "text/plain": [
       "[27.900, 33.770, 33.000, 22.705, 28.880, ..., 30.97, 31.92, 36.85, 25.80, 29.07]\n",
       "Length: 1338\n",
       "Categories (548, float64): [15.960, 16.815, 17.195, 17.290, ..., 49.06, 50.38, 52.58, 53.13]"
      ]
     },
     "execution_count": 55,
     "metadata": {},
     "output_type": "execute_result"
    }
   ],
   "source": [
    "bmi_cat"
   ]
  },
  {
   "cell_type": "code",
   "execution_count": 56,
   "metadata": {},
   "outputs": [
    {
     "data": {
      "text/plain": [
       "[16884.92400, 1725.55230, 4449.46200, 21984.47061, 3866.85520, ..., 10600.5483, 2205.9808, 1629.8335, 2007.9450, 29141.3603]\n",
       "Length: 1338\n",
       "Categories (1337, float64): [1121.8739, 1131.5066, 1135.9407, 1136.3994, ..., 58571.07448, 60021.39897, 62592.87309, 63770.42801]"
      ]
     },
     "execution_count": 56,
     "metadata": {},
     "output_type": "execute_result"
    }
   ],
   "source": [
    "charger_cat"
   ]
  },
  {
   "cell_type": "code",
   "execution_count": 57,
   "metadata": {},
   "outputs": [
    {
     "data": {
      "text/plain": [
       "[0, 1, 3, 0, 0, ..., 3, 0, 0, 0, 0]\n",
       "Length: 1338\n",
       "Categories (6, int64): [0, 1, 2, 3, 4, 5]"
      ]
     },
     "execution_count": 57,
     "metadata": {},
     "output_type": "execute_result"
    }
   ],
   "source": [
    "children_cat"
   ]
  },
  {
   "cell_type": "code",
   "execution_count": 58,
   "metadata": {},
   "outputs": [
    {
     "data": {
      "text/plain": [
       "['southwest', 'southeast', 'southeast', 'northwest', 'northwest', ..., 'northwest', 'northeast', 'southeast', 'southwest', 'northwest']\n",
       "Length: 1338\n",
       "Categories (4, object): ['northeast', 'northwest', 'southeast', 'southwest']"
      ]
     },
     "execution_count": 58,
     "metadata": {},
     "output_type": "execute_result"
    }
   ],
   "source": [
    "region_cat"
   ]
  },
  {
   "cell_type": "code",
   "execution_count": 59,
   "metadata": {},
   "outputs": [
    {
     "data": {
      "text/plain": [
       "['female', 'male', 'male', 'male', 'male', ..., 'male', 'female', 'female', 'female', 'female']\n",
       "Length: 1338\n",
       "Categories (2, object): ['female', 'male']"
      ]
     },
     "execution_count": 59,
     "metadata": {},
     "output_type": "execute_result"
    }
   ],
   "source": [
    "sex_cat"
   ]
  },
  {
   "cell_type": "code",
   "execution_count": 60,
   "metadata": {},
   "outputs": [
    {
     "data": {
      "text/plain": [
       "['yes', 'no', 'no', 'no', 'no', ..., 'no', 'no', 'no', 'no', 'yes']\n",
       "Length: 1338\n",
       "Categories (2, object): ['no', 'yes']"
      ]
     },
     "execution_count": 60,
     "metadata": {},
     "output_type": "execute_result"
    }
   ],
   "source": [
    "smoker_cat"
   ]
  },
  {
   "cell_type": "markdown",
   "metadata": {},
   "source": [
    "code above is answer two and three see the all categories and regions."
   ]
  },
  {
   "cell_type": "code",
   "execution_count": 61,
   "metadata": {},
   "outputs": [
    {
     "data": {
      "text/html": [
       "<div>\n",
       "<style scoped>\n",
       "    .dataframe tbody tr th:only-of-type {\n",
       "        vertical-align: middle;\n",
       "    }\n",
       "\n",
       "    .dataframe tbody tr th {\n",
       "        vertical-align: top;\n",
       "    }\n",
       "\n",
       "    .dataframe thead th {\n",
       "        text-align: right;\n",
       "    }\n",
       "</style>\n",
       "<table border=\"1\" class=\"dataframe\">\n",
       "  <thead>\n",
       "    <tr style=\"text-align: right;\">\n",
       "      <th></th>\n",
       "      <th>age</th>\n",
       "      <th>sex</th>\n",
       "      <th>bmi</th>\n",
       "      <th>children</th>\n",
       "      <th>smoker</th>\n",
       "      <th>region</th>\n",
       "      <th>charges</th>\n",
       "    </tr>\n",
       "  </thead>\n",
       "  <tbody>\n",
       "    <tr>\n",
       "      <th>543</th>\n",
       "      <td>54</td>\n",
       "      <td>female</td>\n",
       "      <td>47.41</td>\n",
       "      <td>0</td>\n",
       "      <td>yes</td>\n",
       "      <td>southeast</td>\n",
       "      <td>63770.42801</td>\n",
       "    </tr>\n",
       "  </tbody>\n",
       "</table>\n",
       "</div>"
      ],
      "text/plain": [
       "     age     sex    bmi  children smoker     region      charges\n",
       "543   54  female  47.41         0    yes  southeast  63770.42801"
      ]
     },
     "execution_count": 61,
     "metadata": {},
     "output_type": "execute_result"
    }
   ],
   "source": [
    "# max income \n",
    "data.loc[data['charges'] == data['charges'].max()]"
   ]
  },
  {
   "cell_type": "code",
   "execution_count": 62,
   "metadata": {},
   "outputs": [
    {
     "name": "stdout",
     "output_type": "stream",
     "text": [
      "northeast : 13406.384516385804\n",
      "northwest : 12417.57537396923\n",
      "southeast : 14735.411437609888\n",
      "southwest : 12346.937377292308\n"
     ]
    }
   ],
   "source": [
    "for i in region_cat.categories:\n",
    "    mean_region = data.loc[data['region'] == i]['charges'].mean()\n",
    "    print(f\"{i} : {mean_region}\")\n",
    "\n"
   ]
  },
  {
   "cell_type": "code",
   "execution_count": 63,
   "metadata": {},
   "outputs": [
    {
     "data": {
      "image/png": "[encoded data removed]",
      "text/plain": [
       "<Figure size 640x480 with 1 Axes>"
      ]
     },
     "metadata": {},
     "output_type": "display_data"
    }
   ],
   "source": [
    "plt.scatter(bmi,children,c='r')\n",
    "plt.show()"
   ]
  },
  {
   "cell_type": "code",
   "execution_count": 64,
   "metadata": {},
   "outputs": [
    {
     "data": {
      "text/plain": [
       "'southeast'"
      ]
     },
     "execution_count": 64,
     "metadata": {},
     "output_type": "execute_result"
    }
   ],
   "source": [
    "children_regoin={}\n",
    "for i in region_cat.categories:\n",
    "    children_regoin[i] = data.loc[i==data['region']]['children'].sum()\n",
    "max(children_regoin, key=lambda k: children_regoin[k])"
   ]
  },
  {
   "cell_type": "code",
   "execution_count": 65,
   "metadata": {},
   "outputs": [
    {
     "data": {
      "text/plain": [
       "705"
      ]
     },
     "execution_count": 65,
     "metadata": {},
     "output_type": "execute_result"
    }
   ],
   "source": [
    "# 9\n",
    "data[data['bmi'] > 30]['bmi'].count()"
   ]
  },
  {
   "cell_type": "code",
   "execution_count": 66,
   "metadata": {},
   "outputs": [],
   "source": [
    "bmi_types = {'Underweight':[0.0, 18.5], 'Normal weight':[18.5, 24.5], 'Overweight':[24.5, 30], 'Obese':[30.0, 200.0]}"
   ]
  },
  {
   "cell_type": "code",
   "execution_count": 67,
   "metadata": {},
   "outputs": [
    {
     "data": {
      "image/png": "[encoded data removed]",
      "text/plain": [
       "<Figure size 640x480 with 1 Axes>"
      ]
     },
     "metadata": {},
     "output_type": "display_data"
    }
   ],
   "source": [
    "\n",
    "result = {}\n",
    "for key, value in bmi_types.items():\n",
    "    p = bmi[bmi > value[0]][bmi <= value[1]].count()\n",
    "    result[key] = p\n",
    "\n",
    "fig, ax = plt.subplots()\n",
    "\n",
    " # Example data\n",
    "ax.barh(list(result.keys()),list(result.values()),  align='center')\n",
    "ax.set_xlabel('types')\n",
    "ax.set_title('numbers?')\n",
    "\n",
    "plt.show()\n"
   ]
  },
  {
   "cell_type": "code",
   "execution_count": 68,
   "metadata": {},
   "outputs": [
    {
     "data": {
      "image/png": "[encoded data removed]",
      "text/plain": [
       "<Figure size 640x480 with 1 Axes>"
      ]
     },
     "metadata": {},
     "output_type": "display_data"
    },
    {
     "data": {
      "image/png": "[encoded data removed]",
      "text/plain": [
       "<Figure size 640x480 with 1 Axes>"
      ]
     },
     "metadata": {},
     "output_type": "display_data"
    }
   ],
   "source": [
    "plt.scatter(chager, age)\n",
    "plt.show()\n",
    "plt.scatter(chager, children)\n",
    "plt.show()"
   ]
  },
  {
   "cell_type": "code",
   "execution_count": 69,
   "metadata": {},
   "outputs": [
    {
     "data": {
      "text/html": [
       "<div>\n",
       "<style scoped>\n",
       "    .dataframe tbody tr th:only-of-type {\n",
       "        vertical-align: middle;\n",
       "    }\n",
       "\n",
       "    .dataframe tbody tr th {\n",
       "        vertical-align: top;\n",
       "    }\n",
       "\n",
       "    .dataframe thead th {\n",
       "        text-align: right;\n",
       "    }\n",
       "</style>\n",
       "<table border=\"1\" class=\"dataframe\">\n",
       "  <thead>\n",
       "    <tr style=\"text-align: right;\">\n",
       "      <th></th>\n",
       "      <th>age</th>\n",
       "      <th>sex</th>\n",
       "      <th>bmi</th>\n",
       "      <th>children</th>\n",
       "      <th>smoker</th>\n",
       "      <th>region</th>\n",
       "      <th>charges</th>\n",
       "    </tr>\n",
       "  </thead>\n",
       "  <tbody>\n",
       "    <tr>\n",
       "      <th>0</th>\n",
       "      <td>19</td>\n",
       "      <td>female</td>\n",
       "      <td>27.90</td>\n",
       "      <td>0</td>\n",
       "      <td>yes</td>\n",
       "      <td>southwest</td>\n",
       "      <td>16884.9240</td>\n",
       "    </tr>\n",
       "    <tr>\n",
       "      <th>1</th>\n",
       "      <td>18</td>\n",
       "      <td>male</td>\n",
       "      <td>33.77</td>\n",
       "      <td>1</td>\n",
       "      <td>no</td>\n",
       "      <td>southeast</td>\n",
       "      <td>1725.5523</td>\n",
       "    </tr>\n",
       "  </tbody>\n",
       "</table>\n",
       "</div>"
      ],
      "text/plain": [
       "   age     sex    bmi  children smoker     region     charges\n",
       "0   19  female  27.90         0    yes  southwest  16884.9240\n",
       "1   18    male  33.77         1     no  southeast   1725.5523"
      ]
     },
     "execution_count": 69,
     "metadata": {},
     "output_type": "execute_result"
    }
   ],
   "source": [
    "data[:2]"
   ]
  },
  {
   "cell_type": "code",
   "execution_count": 70,
   "metadata": {},
   "outputs": [
    {
     "name": "stdout",
     "output_type": "stream",
     "text": [
      "      age  sex     bmi  children  smoker  region      charges\n",
      "0      19    0  27.900         0       1       3  16884.92400\n",
      "1      18    1  33.770         1       0       2   1725.55230\n",
      "2      28    1  33.000         3       0       2   4449.46200\n",
      "3      33    1  22.705         0       0       1  21984.47061\n",
      "4      32    1  28.880         0       0       1   3866.85520\n",
      "...   ...  ...     ...       ...     ...     ...          ...\n",
      "1333   50    1  30.970         3       0       1  10600.54830\n",
      "1334   18    0  31.920         0       0       0   2205.98080\n",
      "1335   18    0  36.850         0       0       2   1629.83350\n",
      "1336   21    0  25.800         0       0       3   2007.94500\n",
      "1337   61    0  29.070         0       1       1  29141.36030\n",
      "\n",
      "[1338 rows x 7 columns]\n"
     ]
    }
   ],
   "source": [
    "from sklearn.preprocessing import LabelEncoder\n",
    "\n",
    "# create a label encoder object\n",
    "le_sex = LabelEncoder()\n",
    "le_re = LabelEncoder()\n",
    "le_smo = LabelEncoder()\n",
    "\n",
    "\n",
    "# encode the dataset using label encoding\n",
    "data['sex'] = le_sex.fit_transform(data['sex'])\n",
    "data['smoker'] = le_smo.fit_transform(data['smoker'])\n",
    "data['region'] = le_re.fit_transform(data['region'])\n",
    "\n",
    "# print the encoded dataset\n",
    "print(data)\n"
   ]
  },
  {
   "cell_type": "code",
   "execution_count": 71,
   "metadata": {},
   "outputs": [
    {
     "data": {
      "text/plain": [
       "array(['female', 'male', 'male', ..., 'female', 'female', 'female'],\n",
       "      dtype=object)"
      ]
     },
     "execution_count": 71,
     "metadata": {},
     "output_type": "execute_result"
    }
   ],
   "source": [
    "le_sex.inverse_transform(data['sex'])"
   ]
  },
  {
   "cell_type": "code",
   "execution_count": 72,
   "metadata": {},
   "outputs": [
    {
     "data": {
      "text/plain": [
       "age         float32\n",
       "sex         float32\n",
       "bmi         float32\n",
       "children    float32\n",
       "smoker      float32\n",
       "region      float32\n",
       "charges     float32\n",
       "dtype: object"
      ]
     },
     "execution_count": 72,
     "metadata": {},
     "output_type": "execute_result"
    }
   ],
   "source": [
    "data = data.astype('float32')\n",
    "data.dtypes"
   ]
  },
  {
   "cell_type": "code",
   "execution_count": 73,
   "metadata": {},
   "outputs": [
    {
     "data": {
      "text/html": [
       "<div>\n",
       "<style scoped>\n",
       "    .dataframe tbody tr th:only-of-type {\n",
       "        vertical-align: middle;\n",
       "    }\n",
       "\n",
       "    .dataframe tbody tr th {\n",
       "        vertical-align: top;\n",
       "    }\n",
       "\n",
       "    .dataframe thead th {\n",
       "        text-align: right;\n",
       "    }\n",
       "</style>\n",
       "<table border=\"1\" class=\"dataframe\">\n",
       "  <thead>\n",
       "    <tr style=\"text-align: right;\">\n",
       "      <th></th>\n",
       "      <th>age</th>\n",
       "      <th>sex</th>\n",
       "      <th>bmi</th>\n",
       "      <th>children</th>\n",
       "      <th>smoker</th>\n",
       "      <th>region</th>\n",
       "      <th>charges</th>\n",
       "    </tr>\n",
       "  </thead>\n",
       "  <tbody>\n",
       "    <tr>\n",
       "      <th>age</th>\n",
       "      <td>1.000000</td>\n",
       "      <td>-0.020856</td>\n",
       "      <td>0.109272</td>\n",
       "      <td>0.042469</td>\n",
       "      <td>-0.025019</td>\n",
       "      <td>0.002127</td>\n",
       "      <td>0.299008</td>\n",
       "    </tr>\n",
       "    <tr>\n",
       "      <th>sex</th>\n",
       "      <td>-0.020856</td>\n",
       "      <td>1.000000</td>\n",
       "      <td>0.046371</td>\n",
       "      <td>0.017163</td>\n",
       "      <td>0.076185</td>\n",
       "      <td>0.004588</td>\n",
       "      <td>0.057292</td>\n",
       "    </tr>\n",
       "    <tr>\n",
       "      <th>bmi</th>\n",
       "      <td>0.109272</td>\n",
       "      <td>0.046371</td>\n",
       "      <td>1.000000</td>\n",
       "      <td>0.012759</td>\n",
       "      <td>0.003750</td>\n",
       "      <td>0.157566</td>\n",
       "      <td>0.198341</td>\n",
       "    </tr>\n",
       "    <tr>\n",
       "      <th>children</th>\n",
       "      <td>0.042469</td>\n",
       "      <td>0.017163</td>\n",
       "      <td>0.012759</td>\n",
       "      <td>1.000000</td>\n",
       "      <td>0.007673</td>\n",
       "      <td>0.016569</td>\n",
       "      <td>0.067998</td>\n",
       "    </tr>\n",
       "    <tr>\n",
       "      <th>smoker</th>\n",
       "      <td>-0.025019</td>\n",
       "      <td>0.076185</td>\n",
       "      <td>0.003750</td>\n",
       "      <td>0.007673</td>\n",
       "      <td>1.000000</td>\n",
       "      <td>-0.002181</td>\n",
       "      <td>0.787251</td>\n",
       "    </tr>\n",
       "    <tr>\n",
       "      <th>region</th>\n",
       "      <td>0.002127</td>\n",
       "      <td>0.004588</td>\n",
       "      <td>0.157566</td>\n",
       "      <td>0.016569</td>\n",
       "      <td>-0.002181</td>\n",
       "      <td>1.000000</td>\n",
       "      <td>-0.006208</td>\n",
       "    </tr>\n",
       "    <tr>\n",
       "      <th>charges</th>\n",
       "      <td>0.299008</td>\n",
       "      <td>0.057292</td>\n",
       "      <td>0.198341</td>\n",
       "      <td>0.067998</td>\n",
       "      <td>0.787251</td>\n",
       "      <td>-0.006208</td>\n",
       "      <td>1.000000</td>\n",
       "    </tr>\n",
       "  </tbody>\n",
       "</table>\n",
       "</div>"
      ],
      "text/plain": [
       "               age       sex       bmi  children    smoker    region   charges\n",
       "age       1.000000 -0.020856  0.109272  0.042469 -0.025019  0.002127  0.299008\n",
       "sex      -0.020856  1.000000  0.046371  0.017163  0.076185  0.004588  0.057292\n",
       "bmi       0.109272  0.046371  1.000000  0.012759  0.003750  0.157566  0.198341\n",
       "children  0.042469  0.017163  0.012759  1.000000  0.007673  0.016569  0.067998\n",
       "smoker   -0.025019  0.076185  0.003750  0.007673  1.000000 -0.002181  0.787251\n",
       "region    0.002127  0.004588  0.157566  0.016569 -0.002181  1.000000 -0.006208\n",
       "charges   0.299008  0.057292  0.198341  0.067998  0.787251 -0.006208  1.000000"
      ]
     },
     "execution_count": 73,
     "metadata": {},
     "output_type": "execute_result"
    }
   ],
   "source": [
    "data.corr()"
   ]
  },
  {
   "cell_type": "markdown",
   "metadata": {},
   "source": [
    "#16\n",
    ">**Answer**: if the dependecies of feature is more than normal we can say feature are same act and can remove that,"
   ]
  },
  {
   "cell_type": "code",
   "execution_count": 74,
   "metadata": {},
   "outputs": [],
   "source": [
    "from sklearn.preprocessing import normalize, StandardScaler"
   ]
  },
  {
   "cell_type": "code",
   "execution_count": 75,
   "metadata": {},
   "outputs": [
    {
     "data": {
      "text/html": [
       "<div>\n",
       "<style scoped>\n",
       "    .dataframe tbody tr th:only-of-type {\n",
       "        vertical-align: middle;\n",
       "    }\n",
       "\n",
       "    .dataframe tbody tr th {\n",
       "        vertical-align: top;\n",
       "    }\n",
       "\n",
       "    .dataframe thead th {\n",
       "        text-align: right;\n",
       "    }\n",
       "</style>\n",
       "<table border=\"1\" class=\"dataframe\">\n",
       "  <thead>\n",
       "    <tr style=\"text-align: right;\">\n",
       "      <th></th>\n",
       "      <th>age</th>\n",
       "      <th>sex</th>\n",
       "      <th>bmi</th>\n",
       "      <th>children</th>\n",
       "      <th>smoker</th>\n",
       "      <th>region</th>\n",
       "      <th>charges</th>\n",
       "    </tr>\n",
       "  </thead>\n",
       "  <tbody>\n",
       "    <tr>\n",
       "      <th>0</th>\n",
       "      <td>19.0</td>\n",
       "      <td>0.0</td>\n",
       "      <td>27.900</td>\n",
       "      <td>0.0</td>\n",
       "      <td>1.0</td>\n",
       "      <td>3.0</td>\n",
       "      <td>16884.923828</td>\n",
       "    </tr>\n",
       "    <tr>\n",
       "      <th>1</th>\n",
       "      <td>18.0</td>\n",
       "      <td>1.0</td>\n",
       "      <td>33.770</td>\n",
       "      <td>1.0</td>\n",
       "      <td>0.0</td>\n",
       "      <td>2.0</td>\n",
       "      <td>1725.552246</td>\n",
       "    </tr>\n",
       "    <tr>\n",
       "      <th>2</th>\n",
       "      <td>28.0</td>\n",
       "      <td>1.0</td>\n",
       "      <td>33.000</td>\n",
       "      <td>3.0</td>\n",
       "      <td>0.0</td>\n",
       "      <td>2.0</td>\n",
       "      <td>4449.461914</td>\n",
       "    </tr>\n",
       "    <tr>\n",
       "      <th>3</th>\n",
       "      <td>33.0</td>\n",
       "      <td>1.0</td>\n",
       "      <td>22.705</td>\n",
       "      <td>0.0</td>\n",
       "      <td>0.0</td>\n",
       "      <td>1.0</td>\n",
       "      <td>21984.470703</td>\n",
       "    </tr>\n",
       "  </tbody>\n",
       "</table>\n",
       "</div>"
      ],
      "text/plain": [
       "    age  sex     bmi  children  smoker  region       charges\n",
       "0  19.0  0.0  27.900       0.0     1.0     3.0  16884.923828\n",
       "1  18.0  1.0  33.770       1.0     0.0     2.0   1725.552246\n",
       "2  28.0  1.0  33.000       3.0     0.0     2.0   4449.461914\n",
       "3  33.0  1.0  22.705       0.0     0.0     1.0  21984.470703"
      ]
     },
     "execution_count": 75,
     "metadata": {},
     "output_type": "execute_result"
    }
   ],
   "source": [
    "data[:4]"
   ]
  },
  {
   "cell_type": "code",
   "execution_count": 76,
   "metadata": {},
   "outputs": [],
   "source": [
    "data['bmi'] = StandardScaler().fit_transform(np.array(data['bmi'][:]).reshape(-1,1))\n",
    "data['charges'] = StandardScaler().fit_transform(np.array(data['charges'][:]).reshape(-1,1))"
   ]
  },
  {
   "cell_type": "code",
   "execution_count": 77,
   "metadata": {},
   "outputs": [
    {
     "data": {
      "text/html": [
       "<div>\n",
       "<style scoped>\n",
       "    .dataframe tbody tr th:only-of-type {\n",
       "        vertical-align: middle;\n",
       "    }\n",
       "\n",
       "    .dataframe tbody tr th {\n",
       "        vertical-align: top;\n",
       "    }\n",
       "\n",
       "    .dataframe thead th {\n",
       "        text-align: right;\n",
       "    }\n",
       "</style>\n",
       "<table border=\"1\" class=\"dataframe\">\n",
       "  <thead>\n",
       "    <tr style=\"text-align: right;\">\n",
       "      <th></th>\n",
       "      <th>age</th>\n",
       "      <th>sex</th>\n",
       "      <th>bmi</th>\n",
       "      <th>children</th>\n",
       "      <th>smoker</th>\n",
       "      <th>region</th>\n",
       "      <th>charges</th>\n",
       "    </tr>\n",
       "  </thead>\n",
       "  <tbody>\n",
       "    <tr>\n",
       "      <th>0</th>\n",
       "      <td>19.0</td>\n",
       "      <td>0.0</td>\n",
       "      <td>-0.453320</td>\n",
       "      <td>0.0</td>\n",
       "      <td>1.0</td>\n",
       "      <td>3.0</td>\n",
       "      <td>0.298584</td>\n",
       "    </tr>\n",
       "    <tr>\n",
       "      <th>1</th>\n",
       "      <td>18.0</td>\n",
       "      <td>1.0</td>\n",
       "      <td>0.509621</td>\n",
       "      <td>1.0</td>\n",
       "      <td>0.0</td>\n",
       "      <td>2.0</td>\n",
       "      <td>-0.953689</td>\n",
       "    </tr>\n",
       "    <tr>\n",
       "      <th>2</th>\n",
       "      <td>28.0</td>\n",
       "      <td>1.0</td>\n",
       "      <td>0.383307</td>\n",
       "      <td>3.0</td>\n",
       "      <td>0.0</td>\n",
       "      <td>2.0</td>\n",
       "      <td>-0.728675</td>\n",
       "    </tr>\n",
       "    <tr>\n",
       "      <th>3</th>\n",
       "      <td>33.0</td>\n",
       "      <td>1.0</td>\n",
       "      <td>-1.305531</td>\n",
       "      <td>0.0</td>\n",
       "      <td>0.0</td>\n",
       "      <td>1.0</td>\n",
       "      <td>0.719843</td>\n",
       "    </tr>\n",
       "    <tr>\n",
       "      <th>4</th>\n",
       "      <td>32.0</td>\n",
       "      <td>1.0</td>\n",
       "      <td>-0.292557</td>\n",
       "      <td>0.0</td>\n",
       "      <td>0.0</td>\n",
       "      <td>1.0</td>\n",
       "      <td>-0.776802</td>\n",
       "    </tr>\n",
       "    <tr>\n",
       "      <th>...</th>\n",
       "      <td>...</td>\n",
       "      <td>...</td>\n",
       "      <td>...</td>\n",
       "      <td>...</td>\n",
       "      <td>...</td>\n",
       "      <td>...</td>\n",
       "      <td>...</td>\n",
       "    </tr>\n",
       "    <tr>\n",
       "      <th>1333</th>\n",
       "      <td>50.0</td>\n",
       "      <td>1.0</td>\n",
       "      <td>0.050296</td>\n",
       "      <td>3.0</td>\n",
       "      <td>0.0</td>\n",
       "      <td>1.0</td>\n",
       "      <td>-0.220551</td>\n",
       "    </tr>\n",
       "    <tr>\n",
       "      <th>1334</th>\n",
       "      <td>18.0</td>\n",
       "      <td>0.0</td>\n",
       "      <td>0.206139</td>\n",
       "      <td>0.0</td>\n",
       "      <td>0.0</td>\n",
       "      <td>0.0</td>\n",
       "      <td>-0.914002</td>\n",
       "    </tr>\n",
       "    <tr>\n",
       "      <th>1335</th>\n",
       "      <td>18.0</td>\n",
       "      <td>0.0</td>\n",
       "      <td>1.014878</td>\n",
       "      <td>0.0</td>\n",
       "      <td>0.0</td>\n",
       "      <td>2.0</td>\n",
       "      <td>-0.961596</td>\n",
       "    </tr>\n",
       "    <tr>\n",
       "      <th>1336</th>\n",
       "      <td>21.0</td>\n",
       "      <td>0.0</td>\n",
       "      <td>-0.797814</td>\n",
       "      <td>0.0</td>\n",
       "      <td>0.0</td>\n",
       "      <td>3.0</td>\n",
       "      <td>-0.930362</td>\n",
       "    </tr>\n",
       "    <tr>\n",
       "      <th>1337</th>\n",
       "      <td>61.0</td>\n",
       "      <td>0.0</td>\n",
       "      <td>-0.261388</td>\n",
       "      <td>0.0</td>\n",
       "      <td>1.0</td>\n",
       "      <td>1.0</td>\n",
       "      <td>1.311053</td>\n",
       "    </tr>\n",
       "  </tbody>\n",
       "</table>\n",
       "<p>1338 rows × 7 columns</p>\n",
       "</div>"
      ],
      "text/plain": [
       "       age  sex       bmi  children  smoker  region   charges\n",
       "0     19.0  0.0 -0.453320       0.0     1.0     3.0  0.298584\n",
       "1     18.0  1.0  0.509621       1.0     0.0     2.0 -0.953689\n",
       "2     28.0  1.0  0.383307       3.0     0.0     2.0 -0.728675\n",
       "3     33.0  1.0 -1.305531       0.0     0.0     1.0  0.719843\n",
       "4     32.0  1.0 -0.292557       0.0     0.0     1.0 -0.776802\n",
       "...    ...  ...       ...       ...     ...     ...       ...\n",
       "1333  50.0  1.0  0.050296       3.0     0.0     1.0 -0.220551\n",
       "1334  18.0  0.0  0.206139       0.0     0.0     0.0 -0.914002\n",
       "1335  18.0  0.0  1.014878       0.0     0.0     2.0 -0.961596\n",
       "1336  21.0  0.0 -0.797814       0.0     0.0     3.0 -0.930362\n",
       "1337  61.0  0.0 -0.261388       0.0     1.0     1.0  1.311053\n",
       "\n",
       "[1338 rows x 7 columns]"
      ]
     },
     "execution_count": 77,
     "metadata": {},
     "output_type": "execute_result"
    }
   ],
   "source": [
    "data"
   ]
  },
  {
   "cell_type": "code",
   "execution_count": 78,
   "metadata": {},
   "outputs": [
    {
     "name": "stdout",
     "output_type": "stream",
     "text": [
      "       age  sex       bmi  children  smoker  region   charges\n",
      "5     31.0  0.0 -0.807656       0.0     0.0     2.0 -0.785908\n",
      "6     46.0  0.0  0.455486       1.0     0.0     2.0 -0.415500\n",
      "7     37.0  0.0 -0.479567       3.0     0.0     1.0 -0.494728\n",
      "8     37.0  1.0 -0.136714       2.0     0.0     0.0 -0.567017\n",
      "9     60.0  0.0 -0.791252       0.0     0.0     1.0  1.293027\n",
      "...    ...  ...       ...       ...     ...     ...       ...\n",
      "1333  50.0  1.0  0.050296       3.0     0.0     1.0 -0.220551\n",
      "1334  18.0  0.0  0.206139       0.0     0.0     0.0 -0.914002\n",
      "1335  18.0  0.0  1.014878       0.0     0.0     2.0 -0.961596\n",
      "1336  21.0  0.0 -0.797814       0.0     0.0     3.0 -0.930362\n",
      "1337  61.0  0.0 -0.261388       0.0     1.0     1.0  1.311053\n",
      "\n",
      "[1333 rows x 7 columns]\n",
      "       age  sex       bmi  children  smoker  region   charges\n",
      "5     26.0  0.0  1.925325       1.0     0.0     3.0 -0.814515\n",
      "6     24.0  1.0 -0.354893       2.0     0.0     1.0 -0.803993\n",
      "7     30.0  0.0  1.375776       3.0     1.0     2.0  2.285080\n",
      "8     18.0  0.0 -0.713330       0.0     0.0     0.0 -0.914646\n",
      "9     29.0  0.0 -1.461373       1.0     1.0     0.0  0.279815\n",
      "...    ...  ...       ...       ...     ...     ...       ...\n",
      "1333  22.0  1.0  0.678587       3.0     0.0     3.0 -0.811810\n",
      "1334  55.0  0.0  1.664495       3.0     0.0     2.0 -0.064815\n",
      "1335  36.0  0.0 -0.732195       0.0     0.0     3.0 -0.692790\n",
      "1336  22.0  1.0  0.509621       0.0     0.0     2.0 -0.957896\n",
      "1337  55.0  1.0  1.088698       0.0     0.0     3.0  0.607977\n",
      "\n",
      "[1333 rows x 7 columns]\n"
     ]
    }
   ],
   "source": [
    "print(data[5:])\n",
    "data = data.iloc[np.random.permutation(len(data))].reset_index(drop=True)\n",
    "print(data[5:])"
   ]
  },
  {
   "cell_type": "code",
   "execution_count": 79,
   "metadata": {},
   "outputs": [
    {
     "data": {
      "text/plain": [
       "(1070, 268)"
      ]
     },
     "execution_count": 79,
     "metadata": {},
     "output_type": "execute_result"
    }
   ],
   "source": [
    "import math\n",
    "percent_train = 80\n",
    "train_size = math.floor(len(data)*percent_train/100)\n",
    "test_size = math.ceil(len(data)*(100 - percent_train)/100)\n",
    "train_size, test_size"
   ]
  },
  {
   "cell_type": "code",
   "execution_count": 80,
   "metadata": {},
   "outputs": [
    {
     "data": {
      "text/plain": [
       "(1070, 267)"
      ]
     },
     "execution_count": 80,
     "metadata": {},
     "output_type": "execute_result"
    }
   ],
   "source": [
    "train_data = data[:train_size]\n",
    "test_data = data[train_size+1:]\n",
    "len(train_data), len(test_data)"
   ]
  },
  {
   "cell_type": "markdown",
   "metadata": {},
   "source": [
    "# 19\n",
    "we have 7 feature and every feature has effect to y for example ${x^i}$ has a some effect and we represend that by coefficient and the percent of the coefficient is correlation coefficient and for each type of model we have some way to caculate for example Pearson's product moment correlation coefficient (r) is for linear regression we can understand  effect of $x^i$ to model. "
   ]
  },
  {
   "cell_type": "markdown",
   "metadata": {},
   "source": [
    "# 20\n",
    "the save data may be happen and get noise of data and by test we can say data is good or bad.\n",
    "by GD repat that and get good function we got the good function but may be this not have converge and must be careful to this."
   ]
  },
  {
   "cell_type": "code",
   "execution_count": 81,
   "metadata": {},
   "outputs": [
    {
     "name": "stdout",
     "output_type": "stream",
     "text": [
      "[ 1.         18.          1.         -0.21217448  1.          0.\n",
      "  2.         -0.9541944 ]\n"
     ]
    }
   ],
   "source": [
    "# 21\n",
    "data = np.array(data)\n",
    "data = np.insert(data,0,[1 for i in range(len(data))], axis=1)\n",
    "print(data[0])"
   ]
  },
  {
   "cell_type": "code",
   "execution_count": 82,
   "metadata": {},
   "outputs": [],
   "source": [
    "def lin_reg(X, O):\n",
    "    return np.dot(X,O)"
   ]
  },
  {
   "cell_type": "code",
   "execution_count": 83,
   "metadata": {},
   "outputs": [],
   "source": [
    "def compute_cost(x, y, w, b):\n",
    "    # number of training examples\n",
    "    m = x.shape[0]\n",
    "    cost_sum = 0\n",
    "    for i in range(m):\n",
    "        f_wb = w * x[i] + b\n",
    "        cost = (f_wb - y[i]) ** 2\n",
    "        cost_sum = cost_sum + cost\n",
    "    total_cost = (1 / (2 * m)) * cost_sum\n",
    "    return total_cost\n",
    "\n",
    "\n",
    "def compute_cost_multi_feature(x, y, w, b):\n",
    "    m = x.shape[0]\n",
    "    feature_number = x.shape[1]\n",
    "    print(feature_number)\n",
    "    cost_sum = 0\n",
    "    for i in range(m - 1):\n",
    "        cost = 0\n",
    "        f_wb = 0\n",
    "        for k in range(feature_number -1 ):\n",
    "          f_wb = w[k] * x[i][k] + f_wb\n",
    "        f_wb = f_wb + b\n",
    "        cost = (f_wb - y[i]) ** 2 + cost\n",
    "        cost_sum = cost_sum + cost\n",
    "    total_cost = (1 / (2 * m)) * cost_sum\n",
    "    return total_cost"
   ]
  },
  {
   "cell_type": "markdown",
   "metadata": {},
   "source": [
    "$cost(x_i) \\leq zf(x_i) + (1- z)f(x_j) \\leq f(x_j)$"
   ]
  },
  {
   "cell_type": "markdown",
   "metadata": {},
   "source": [
    "$\\sigma  / \\sigma \\theta((X \\theta - y)^T(X\\theta - y)) =>\n",
    " 2 X^TX \\theta  - X^Ty = 0 =>\n",
    " \\newline\n",
    " 2X^ TX \\theta  - X^Ty = 0 =>\n",
    " \\newline\n",
    " 2X^TX \\theta = X^T y =>\n",
    "$\n",
    "final we have:\n",
    "$ \\theta = (X^TX)^-1.(X^Ty) $"
   ]
  },
  {
   "cell_type": "code",
   "execution_count": 84,
   "metadata": {},
   "outputs": [],
   "source": [
    "def linear_regression_normal_equation(X, y):\n",
    "    X_transpose = np.transpose(X)\n",
    "    X_transpose_X = np.dot(X_transpose, X)\n",
    "    X_transpose_y = np.dot(X_transpose, y)\n",
    "    theta = np.linalg.solve(X_transpose_X, X_transpose_y)\n",
    "    return theta"
   ]
  },
  {
   "cell_type": "code",
   "execution_count": 85,
   "metadata": {},
   "outputs": [],
   "source": [
    "x_train = train_data.drop('charges', axis=1)\n",
    "y_train = train_data['charges']\n",
    "\n",
    "x_test = test_data.drop('charges', axis=1)\n",
    "y_test = np.array(test_data['charges'])\n",
    "x_test = np.insert(np.array(x_test), 0, [1 for i in range(len(x_test))], axis=1)\n",
    "x_train = np.insert(np.array(x_train), 0, [1 for i in range(len(x_train))], axis=1)\n"
   ]
  },
  {
   "cell_type": "code",
   "execution_count": 86,
   "metadata": {},
   "outputs": [
    {
     "name": "stdout",
     "output_type": "stream",
     "text": [
      "7\n"
     ]
    },
    {
     "data": {
      "text/plain": [
       "3.48889204320538"
      ]
     },
     "execution_count": 86,
     "metadata": {},
     "output_type": "execute_result"
    }
   ],
   "source": [
    "thta = linear_regression_normal_equation(x_train, y_train)\n",
    "compute_cost_multi_feature(x_test, y_test, thta[1:], thta[0])"
   ]
  },
  {
   "cell_type": "code",
   "execution_count": 87,
   "metadata": {},
   "outputs": [
    {
     "data": {
      "text/plain": [
       "array([-1.2214346 ,  0.02109651, -0.0140325 ,  0.17042647,  0.04432644,\n",
       "        1.9680557 , -0.02931179], dtype=float32)"
      ]
     },
     "execution_count": 87,
     "metadata": {},
     "output_type": "execute_result"
    }
   ],
   "source": [
    "thta"
   ]
  },
  {
   "cell_type": "markdown",
   "metadata": {},
   "source": [
    "# 27\n",
    "for this way we must spearate the y and x and train data and test data and for big number of feature computing is hard."
   ]
  },
  {
   "cell_type": "code",
   "execution_count": 88,
   "metadata": {},
   "outputs": [],
   "source": [
    "\n",
    "def grudiant_decsion(x, y, w, b, alfa=0.4, iteration=500):\n",
    "    m = x.shape[0]\n",
    "    feature_number = x.shape[1]\n",
    "    dj_b = 0\n",
    "    dj_w = 0\n",
    "    sum = 0\n",
    "    for iter in range(iteration):\n",
    "        for i in range(m - 1):\n",
    "            f_wb = 0\n",
    "            for j in range(feature_number - 1):\n",
    "                f_wb = x[i,j] * w[j] + f_wb\n",
    "            f_wb = f_wb + b\n",
    "            sum = f_wb + sum\n",
    "        dj_w = (((f_wb - y[i]) * x[i][1:]) )\n",
    "        dj_b = (f_wb - y[i])\n",
    "        dj_w = dj_w / m\n",
    "        dj_b = dj_b / m\n",
    "        b = b - alfa * dj_b\n",
    "        w = w - alfa * dj_w\n",
    "    return w,b\n",
    "\n",
    "\n",
    "    \n",
    "    "
   ]
  },
  {
   "cell_type": "code",
   "execution_count": 89,
   "metadata": {},
   "outputs": [],
   "source": [
    "w_train , b_train = grudiant_decsion(x_train[1:], y_train, [np.random.randint(10) for i in range(x_train.shape[1] - 1)], np.random.randint(10), 0.95)"
   ]
  },
  {
   "cell_type": "code",
   "execution_count": 90,
   "metadata": {},
   "outputs": [
    {
     "name": "stdout",
     "output_type": "stream",
     "text": [
      "7\n"
     ]
    },
    {
     "data": {
      "text/plain": [
       "215.6664022229298"
      ]
     },
     "execution_count": 90,
     "metadata": {},
     "output_type": "execute_result"
    }
   ],
   "source": [
    "compute_cost_multi_feature(x_test, y_test, w_train, b_train)"
   ]
  },
  {
   "cell_type": "markdown",
   "metadata": {},
   "source": [
    "# 31, 32\n",
    "for the alfa i find 0.9 is good rate and number of the interation is 500 is good for data if the rate of alfa is small the itration must be bigger and the time to function go to converge is longger and if the alfa is bigger the convege may be not happended."
   ]
  },
  {
   "cell_type": "code",
   "execution_count": null,
   "metadata": {},
   "outputs": [],
   "source": []
  }
 ],
 "metadata": {
  "kernelspec": {
   "display_name": "Python 3",
   "language": "python",
   "name": "python3"
  },
  "language_info": {
   "codemirror_mode": {
    "name": "ipython",
    "version": 3
   },
   "file_extension": ".py",
   "mimetype": "text/x-python",
   "name": "python",
   "nbconvert_exporter": "python",
   "pygments_lexer": "ipython3",
   "version": "3.11.5"
  }
 },
 "nbformat": 4,
 "nbformat_minor": 2
}
